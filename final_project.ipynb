{
 "cells": [
  {
   "cell_type": "markdown",
   "metadata": {},
   "source": []
  },
  {
   "cell_type": "markdown",
   "metadata": {},
   "source": [
    "* Analyze data breaches of customer/patient health information\n",
    "* Analyze WIRED magazine and TechCrunch articles of the Equifax data breach \n",
    "* Dataset comes from U.S. Department of Health and Human Services Office for Civil Rights website \n",
    "* Type of data: unstructured and structured"
   ]
  },
  {
   "cell_type": "markdown",
   "metadata": {},
   "source": [
    "### Which companies are the biggest offender in not securitying patients' health information? Is media coverage of a data breach always negative?"
   ]
  },
  {
   "cell_type": "markdown",
   "metadata": {},
   "source": [
    "# Webscrapping Added Part 1"
   ]
  },
  {
   "cell_type": "code",
   "execution_count": 271,
   "metadata": {},
   "outputs": [],
   "source": [
    "import requests\n",
    "from bs4 import BeautifulSoup, SoupStrainer\n",
    "from textblob import TextBlob #Natural Language Processing library \n",
    "#the pickle module implements binary protocols for serializing and de-serializing a Python object structure\n",
    "import pickle"
   ]
  },
  {
   "cell_type": "markdown",
   "metadata": {},
   "source": [
    "Some of this code in this step is from Alice Zhao's github account which accompanies her [youtube tutorial](https://www.youtube.com/watch?v=iQ1bfDMCv_c&feature=youtu.be) on text pre-processing for text mining"
   ]
  },
  {
   "cell_type": "code",
   "execution_count": 272,
   "metadata": {},
   "outputs": [],
   "source": [
    "#a function to pull page information and return a list with multiple texts  \n",
    "def url_to_transcript(url):\n",
    "    page = requests.get(url).text\n",
    "    content = SoupStrainer(\"p\")#Just get <p></p> tags from website\n",
    "    html_soup = BeautifulSoup(page, \"html.parser\", parse_only=content)\n",
    "    #get the content between the <p></p> tags & put it into a list\n",
    "    text = [p.get_text() for p in html_soup.find_all('p')]\n",
    "    print(url)\n",
    "    return text #return the list"
   ]
  },
  {
   "cell_type": "code",
   "execution_count": 273,
   "metadata": {},
   "outputs": [],
   "source": [
    "#a function to combine the list of texts \n",
    "def combine_text(list_of_text):\n",
    "    combined_text = ' '.join(list_of_text) #Join on whitespace\n",
    "    return combined_text"
   ]
  },
  {
   "cell_type": "markdown",
   "metadata": {},
   "source": [
    "<code>urls = ['https://techcrunch.com/2018/12/10/equifax-breach-preventable-house-oversight-report/',\n",
    "        'https://www.wired.com/story/equifax-breach-no-excuse/']\n",
    "\n",
    "transcripts = [url_to_transcript(u) for u in urls]#iterate over urls and makes a call to the user define function</code>"
   ]
  },
  {
   "cell_type": "code",
   "execution_count": 274,
   "metadata": {},
   "outputs": [],
   "source": [
    "web_sites = [\"techcrunch\", \"wired\"]"
   ]
  },
  {
   "cell_type": "markdown",
   "metadata": {},
   "source": [
    "<p>Save articles</p>\n",
    "<code>for i, c in enumerate(web_sites):\n",
    "    with open(\"transcripts/\" + c + \".txt\", \"wb\") as file:\n",
    "        pickle.dump(transcripts[i], file)</code>"
   ]
  },
  {
   "cell_type": "code",
   "execution_count": 275,
   "metadata": {},
   "outputs": [],
   "source": [
    "#load articles into dictionary\n",
    "data = {}\n",
    "for i, c in enumerate(web_sites):\n",
    "    with open(\"transcripts/\" + c + \".txt\", \"rb\") as file:\n",
    "        data[c] = pickle.load(file)"
   ]
  },
  {
   "cell_type": "code",
   "execution_count": 276,
   "metadata": {},
   "outputs": [],
   "source": [
    "#combine chunks of text from same source into one text\n",
    "data_combined = {key: [combine_text(value)] for (key, value) in data.items()}"
   ]
  },
  {
   "cell_type": "code",
   "execution_count": 277,
   "metadata": {},
   "outputs": [],
   "source": [
    "text = []\n",
    "for i in data_combined.values():\n",
    "    text.append(i) #transfer dictionary values to a list"
   ]
  },
  {
   "cell_type": "code",
   "execution_count": 281,
   "metadata": {},
   "outputs": [],
   "source": [
    "techcrunch = TextBlob(str(text[0]))  #for processing textual data"
   ]
  },
  {
   "cell_type": "code",
   "execution_count": 282,
   "metadata": {},
   "outputs": [],
   "source": [
    "wired = TextBlob(str(text[1]))"
   ]
  },
  {
   "cell_type": "code",
   "execution_count": 283,
   "metadata": {},
   "outputs": [],
   "source": [
    "wired = wired[:wired.find(\"WIRED is where tomorrow is realized.\")] #eliminate promo sentences"
   ]
  },
  {
   "cell_type": "markdown",
   "metadata": {},
   "source": [
    "# Numpy & Pandas Added Part 2"
   ]
  },
  {
   "cell_type": "code",
   "execution_count": 284,
   "metadata": {},
   "outputs": [
    {
     "data": {
      "text/html": [
       "<div>\n",
       "<style scoped>\n",
       "    .dataframe tbody tr th:only-of-type {\n",
       "        vertical-align: middle;\n",
       "    }\n",
       "\n",
       "    .dataframe tbody tr th {\n",
       "        vertical-align: top;\n",
       "    }\n",
       "\n",
       "    .dataframe thead th {\n",
       "        text-align: right;\n",
       "    }\n",
       "</style>\n",
       "<table border=\"1\" class=\"dataframe\">\n",
       "  <thead>\n",
       "    <tr style=\"text-align: right;\">\n",
       "      <th></th>\n",
       "      <th>Name of Covered Entity</th>\n",
       "      <th>State</th>\n",
       "      <th>Covered Entity Type</th>\n",
       "      <th>Individuals Affected</th>\n",
       "      <th>Breach Submission Date</th>\n",
       "      <th>Type of Breach</th>\n",
       "      <th>Location of Breached Information</th>\n",
       "      <th>Business Associate Present</th>\n",
       "      <th>Web Description</th>\n",
       "    </tr>\n",
       "  </thead>\n",
       "  <tbody>\n",
       "    <tr>\n",
       "      <th>553</th>\n",
       "      <td>Cerebral Palsy Research Foundation of Kansas, ...</td>\n",
       "      <td>KS</td>\n",
       "      <td>Healthcare Provider</td>\n",
       "      <td>8300</td>\n",
       "      <td>2018-05-08</td>\n",
       "      <td>Unauthorized Access/Disclosure</td>\n",
       "      <td>Network Server</td>\n",
       "      <td>No</td>\n",
       "      <td>NaN</td>\n",
       "    </tr>\n",
       "    <tr>\n",
       "      <th>552</th>\n",
       "      <td>USACS Management Group, Ltd.</td>\n",
       "      <td>OH</td>\n",
       "      <td>Business Associate</td>\n",
       "      <td>15552</td>\n",
       "      <td>2018-05-08</td>\n",
       "      <td>Hacking/IT Incident</td>\n",
       "      <td>Email</td>\n",
       "      <td>Yes</td>\n",
       "      <td>NaN</td>\n",
       "    </tr>\n",
       "    <tr>\n",
       "      <th>551</th>\n",
       "      <td>Boys Town National Research Hospital</td>\n",
       "      <td>NE</td>\n",
       "      <td>NaN</td>\n",
       "      <td>2182</td>\n",
       "      <td>2018-05-09</td>\n",
       "      <td>Hacking/IT Incident</td>\n",
       "      <td>Email</td>\n",
       "      <td>Yes</td>\n",
       "      <td>NaN</td>\n",
       "    </tr>\n",
       "    <tr>\n",
       "      <th>550</th>\n",
       "      <td>Associates in Psychiatry and Psychology</td>\n",
       "      <td>MN</td>\n",
       "      <td>Healthcare Provider</td>\n",
       "      <td>6546</td>\n",
       "      <td>2018-05-18</td>\n",
       "      <td>Hacking/IT Incident</td>\n",
       "      <td>Network Server</td>\n",
       "      <td>No</td>\n",
       "      <td>NaN</td>\n",
       "    </tr>\n",
       "    <tr>\n",
       "      <th>549</th>\n",
       "      <td>Holland Eye Surgery and Laser Center</td>\n",
       "      <td>MI</td>\n",
       "      <td>Healthcare Provider</td>\n",
       "      <td>42200</td>\n",
       "      <td>2018-05-18</td>\n",
       "      <td>Hacking/IT Incident</td>\n",
       "      <td>Desktop Computer</td>\n",
       "      <td>No</td>\n",
       "      <td>NaN</td>\n",
       "    </tr>\n",
       "  </tbody>\n",
       "</table>\n",
       "</div>"
      ],
      "text/plain": [
       "                                Name of Covered Entity State  \\\n",
       "553  Cerebral Palsy Research Foundation of Kansas, ...    KS   \n",
       "552                       USACS Management Group, Ltd.    OH   \n",
       "551               Boys Town National Research Hospital    NE   \n",
       "550            Associates in Psychiatry and Psychology    MN   \n",
       "549               Holland Eye Surgery and Laser Center    MI   \n",
       "\n",
       "     Covered Entity Type  Individuals Affected Breach Submission Date  \\\n",
       "553  Healthcare Provider                  8300             2018-05-08   \n",
       "552   Business Associate                 15552             2018-05-08   \n",
       "551                  NaN                  2182             2018-05-09   \n",
       "550  Healthcare Provider                  6546             2018-05-18   \n",
       "549  Healthcare Provider                 42200             2018-05-18   \n",
       "\n",
       "                     Type of Breach Location of Breached Information  \\\n",
       "553  Unauthorized Access/Disclosure                   Network Server   \n",
       "552             Hacking/IT Incident                            Email   \n",
       "551             Hacking/IT Incident                            Email   \n",
       "550             Hacking/IT Incident                   Network Server   \n",
       "549             Hacking/IT Incident                 Desktop Computer   \n",
       "\n",
       "    Business Associate Present  Web Description  \n",
       "553                         No              NaN  \n",
       "552                        Yes              NaN  \n",
       "551                        Yes              NaN  \n",
       "550                         No              NaN  \n",
       "549                         No              NaN  "
      ]
     },
     "execution_count": 284,
     "metadata": {},
     "output_type": "execute_result"
    }
   ],
   "source": [
    "import pandas as pd\n",
    "import numpy as np\n",
    "\n",
    "data_breaches = pd.read_csv(\"F:\\CIS 3120\\Health Care Industry Breahes.csv\")\n",
    "#create datetime object for each date and place it back in DataFrame\n",
    "data_breaches['Breach Submission Date'] = pd.to_datetime(data_breaches['Breach Submission Date'])\n",
    "data_breaches.sort_values(by='Breach Submission Date',  ascending=True).head()"
   ]
  },
  {
   "cell_type": "code",
   "execution_count": 285,
   "metadata": {},
   "outputs": [
    {
     "data": {
      "text/plain": [
       "(554, 9)"
      ]
     },
     "execution_count": 285,
     "metadata": {},
     "output_type": "execute_result"
    }
   ],
   "source": [
    "data_breaches.shape #dimensions"
   ]
  },
  {
   "cell_type": "code",
   "execution_count": 286,
   "metadata": {},
   "outputs": [],
   "source": [
    "labels = ['Name of Covered Entity', 'Individuals Affected', 'Type of Breach', 'Location of Breached Information']"
   ]
  },
  {
   "cell_type": "code",
   "execution_count": 287,
   "metadata": {},
   "outputs": [
    {
     "data": {
      "text/html": [
       "<div>\n",
       "<style scoped>\n",
       "    .dataframe tbody tr th:only-of-type {\n",
       "        vertical-align: middle;\n",
       "    }\n",
       "\n",
       "    .dataframe tbody tr th {\n",
       "        vertical-align: top;\n",
       "    }\n",
       "\n",
       "    .dataframe thead th {\n",
       "        text-align: right;\n",
       "    }\n",
       "</style>\n",
       "<table border=\"1\" class=\"dataframe\">\n",
       "  <thead>\n",
       "    <tr style=\"text-align: right;\">\n",
       "      <th></th>\n",
       "      <th>Name of Covered Entity</th>\n",
       "      <th>Individuals Affected</th>\n",
       "      <th>Type of Breach</th>\n",
       "      <th>Location of Breached Information</th>\n",
       "    </tr>\n",
       "  </thead>\n",
       "  <tbody>\n",
       "    <tr>\n",
       "      <th>0</th>\n",
       "      <td>Ann &amp; Robert H. Lurie Children's Hospital of C...</td>\n",
       "      <td>4824</td>\n",
       "      <td>Unauthorized Access/Disclosure</td>\n",
       "      <td>Electronic Medical Record</td>\n",
       "    </tr>\n",
       "    <tr>\n",
       "      <th>1</th>\n",
       "      <td>Poplar Bluff Regional Medical Center</td>\n",
       "      <td>1619</td>\n",
       "      <td>Unauthorized Access/Disclosure</td>\n",
       "      <td>Paper/Films</td>\n",
       "    </tr>\n",
       "    <tr>\n",
       "      <th>2</th>\n",
       "      <td>City of Detroit Health Department</td>\n",
       "      <td>1981</td>\n",
       "      <td>Unauthorized Access/Disclosure</td>\n",
       "      <td>Other</td>\n",
       "    </tr>\n",
       "    <tr>\n",
       "      <th>3</th>\n",
       "      <td>Ascension Eastwood Clinics</td>\n",
       "      <td>999</td>\n",
       "      <td>Unauthorized Access/Disclosure</td>\n",
       "      <td>Email</td>\n",
       "    </tr>\n",
       "    <tr>\n",
       "      <th>4</th>\n",
       "      <td>Agility Center Orthopedics</td>\n",
       "      <td>7000</td>\n",
       "      <td>Hacking/IT Incident</td>\n",
       "      <td>Email</td>\n",
       "    </tr>\n",
       "  </tbody>\n",
       "</table>\n",
       "</div>"
      ],
      "text/plain": [
       "                              Name of Covered Entity  Individuals Affected  \\\n",
       "0  Ann & Robert H. Lurie Children's Hospital of C...                  4824   \n",
       "1               Poplar Bluff Regional Medical Center                  1619   \n",
       "2                  City of Detroit Health Department                  1981   \n",
       "3                        Ascension Eastwood Clinics                    999   \n",
       "4                         Agility Center Orthopedics                  7000   \n",
       "\n",
       "                   Type of Breach Location of Breached Information  \n",
       "0  Unauthorized Access/Disclosure        Electronic Medical Record  \n",
       "1  Unauthorized Access/Disclosure                      Paper/Films  \n",
       "2  Unauthorized Access/Disclosure                            Other  \n",
       "3  Unauthorized Access/Disclosure                            Email  \n",
       "4             Hacking/IT Incident                            Email  "
      ]
     },
     "execution_count": 287,
     "metadata": {},
     "output_type": "execute_result"
    }
   ],
   "source": [
    "healthcare_providers = pd.DataFrame(data_breaches,columns=labels)\n",
    "healthcare_providers.head()"
   ]
  },
  {
   "cell_type": "code",
   "execution_count": 288,
   "metadata": {},
   "outputs": [
    {
     "name": "stdout",
     "output_type": "stream",
     "text": [
      "Avg. number of people whose data was compromised: 65,649\n"
     ]
    }
   ],
   "source": [
    "#finds mean\n",
    "print(\"Avg. number of people whose data was compromised: {:,.0f}\".format(healthcare_providers['Individuals Affected'].mean()))"
   ]
  },
  {
   "cell_type": "code",
   "execution_count": 289,
   "metadata": {},
   "outputs": [
    {
     "name": "stdout",
     "output_type": "stream",
     "text": [
      "Total number of people whose data was compromised: 36,369,323\n"
     ]
    }
   ],
   "source": [
    "#finds total\n",
    "print(\"Total number of people whose data was compromised: {:,}\".format(healthcare_providers['Individuals Affected'].sum()))"
   ]
  },
  {
   "cell_type": "code",
   "execution_count": 290,
   "metadata": {},
   "outputs": [],
   "source": [
    "data_breach_location = pd.Series(data_breaches['Location of Breached Information'])"
   ]
  },
  {
   "cell_type": "code",
   "execution_count": 291,
   "metadata": {},
   "outputs": [],
   "source": [
    "#pandas Series unique method would still include duplicates so built loop instead\n",
    "list_no_dup = [] #to hold no duplicate values \n",
    "for i, j in data_breach_location.iteritems():\n",
    "    look_up = j.find(', ')#find if more than one value was passed\n",
    "    if look_up > 0:\n",
    "        single_location = j.split(', ')#split multiple values into a list of elements\n",
    "        for k in single_location:\n",
    "            if k not in list_no_dup:\n",
    "                list_no_dup.append(k)#add to list if not already there\n",
    "    else:\n",
    "        if j not in list_no_dup:\n",
    "            list_no_dup.append(j)"
   ]
  },
  {
   "cell_type": "code",
   "execution_count": 292,
   "metadata": {},
   "outputs": [
    {
     "name": "stdout",
     "output_type": "stream",
     "text": [
      "Where did the breach happen?\n",
      "Electronic Medical Record\n",
      "Paper/Films\n",
      "Other\n",
      "Email\n",
      "Other Portable Electronic Device\n",
      "Laptop\n",
      "Network Server\n",
      "Desktop Computer\n"
     ]
    }
   ],
   "source": [
    "list_no_dup = np.array(list_no_dup)#to iterate faster convert to array\n",
    "print(\"Where did the breach happen?\")\n",
    "for i in list_no_dup:\n",
    "    print(i)"
   ]
  },
  {
   "cell_type": "markdown",
   "metadata": {},
   "source": [
    "# Combining & Merging Dataset Added Part 3"
   ]
  },
  {
   "cell_type": "code",
   "execution_count": 309,
   "metadata": {},
   "outputs": [],
   "source": [
    "vulnerabilities_by_vendor = pd.read_csv(\"F:\\CIS 3120\\Vendor Vulnerabilities.csv\", memory_map=True)\n",
    "#only show results with at least 10 vulnerabilities per product\n",
    "vulnerabilities_per_product = vulnerabilities_by_vendor[vulnerabilities_by_vendor['#Vulnerabilities/#Products'] >= 10]"
   ]
  },
  {
   "cell_type": "code",
   "execution_count": 294,
   "metadata": {},
   "outputs": [
    {
     "data": {
      "text/html": [
       "<div>\n",
       "<style scoped>\n",
       "    .dataframe tbody tr th:only-of-type {\n",
       "        vertical-align: middle;\n",
       "    }\n",
       "\n",
       "    .dataframe tbody tr th {\n",
       "        vertical-align: top;\n",
       "    }\n",
       "\n",
       "    .dataframe thead th {\n",
       "        text-align: right;\n",
       "    }\n",
       "</style>\n",
       "<table border=\"1\" class=\"dataframe\">\n",
       "  <thead>\n",
       "    <tr style=\"text-align: right;\">\n",
       "      <th></th>\n",
       "      <th>Vendor Name</th>\n",
       "      <th>Number of Products</th>\n",
       "      <th>Number of Vulnerabilities</th>\n",
       "      <th>#Vulnerabilities/#Products</th>\n",
       "    </tr>\n",
       "  </thead>\n",
       "  <tbody>\n",
       "    <tr>\n",
       "      <th>0</th>\n",
       "      <td>Microsoft</td>\n",
       "      <td>529</td>\n",
       "      <td>6814</td>\n",
       "      <td>13</td>\n",
       "    </tr>\n",
       "    <tr>\n",
       "      <th>3</th>\n",
       "      <td>Google</td>\n",
       "      <td>84</td>\n",
       "      <td>4572</td>\n",
       "      <td>54</td>\n",
       "    </tr>\n",
       "    <tr>\n",
       "      <th>4</th>\n",
       "      <td>Apple</td>\n",
       "      <td>119</td>\n",
       "      <td>4512</td>\n",
       "      <td>38</td>\n",
       "    </tr>\n",
       "    <tr>\n",
       "      <th>6</th>\n",
       "      <td>Adobe</td>\n",
       "      <td>132</td>\n",
       "      <td>3314</td>\n",
       "      <td>25</td>\n",
       "    </tr>\n",
       "    <tr>\n",
       "      <th>7</th>\n",
       "      <td>Debian</td>\n",
       "      <td>97</td>\n",
       "      <td>3197</td>\n",
       "      <td>33</td>\n",
       "    </tr>\n",
       "  </tbody>\n",
       "</table>\n",
       "</div>"
      ],
      "text/plain": [
       "  Vendor Name  Number of Products  Number of Vulnerabilities  \\\n",
       "0   Microsoft                 529                       6814   \n",
       "3      Google                  84                       4572   \n",
       "4       Apple                 119                       4512   \n",
       "6       Adobe                 132                       3314   \n",
       "7      Debian                  97                       3197   \n",
       "\n",
       "   #Vulnerabilities/#Products  \n",
       "0                          13  \n",
       "3                          54  \n",
       "4                          38  \n",
       "6                          25  \n",
       "7                          33  "
      ]
     },
     "execution_count": 294,
     "metadata": {},
     "output_type": "execute_result"
    }
   ],
   "source": [
    "vulnerabilities_per_product.head()"
   ]
  },
  {
   "cell_type": "code",
   "execution_count": 295,
   "metadata": {},
   "outputs": [],
   "source": [
    "vulnerabilities_by_product = pd.read_csv(\"F:\\CIS 3120\\Product Vulnerabilities.csv\", memory_map=True)"
   ]
  },
  {
   "cell_type": "code",
   "execution_count": 296,
   "metadata": {},
   "outputs": [],
   "source": [
    "#inner join the two csv files on Vendor Name\n",
    "top_vendors = pd.merge(vulnerabilities_per_product, vulnerabilities_by_product)"
   ]
  },
  {
   "cell_type": "code",
   "execution_count": 297,
   "metadata": {},
   "outputs": [
    {
     "data": {
      "text/html": [
       "<div>\n",
       "<style scoped>\n",
       "    .dataframe tbody tr th:only-of-type {\n",
       "        vertical-align: middle;\n",
       "    }\n",
       "\n",
       "    .dataframe tbody tr th {\n",
       "        vertical-align: top;\n",
       "    }\n",
       "\n",
       "    .dataframe thead th {\n",
       "        text-align: right;\n",
       "    }\n",
       "</style>\n",
       "<table border=\"1\" class=\"dataframe\">\n",
       "  <thead>\n",
       "    <tr style=\"text-align: right;\">\n",
       "      <th></th>\n",
       "      <th>Vendor Name</th>\n",
       "      <th>Number of Products</th>\n",
       "      <th>Number of Vulnerabilities</th>\n",
       "      <th>#Vulnerabilities/#Products</th>\n",
       "      <th>Product Name</th>\n",
       "      <th>Version</th>\n",
       "      <th>Number of Total Vulnerabilities</th>\n",
       "    </tr>\n",
       "  </thead>\n",
       "  <tbody>\n",
       "    <tr>\n",
       "      <th>0</th>\n",
       "      <td>Microsoft</td>\n",
       "      <td>529</td>\n",
       "      <td>6814</td>\n",
       "      <td>13</td>\n",
       "      <td>Windows Server 2012</td>\n",
       "      <td>R2</td>\n",
       "      <td>940</td>\n",
       "    </tr>\n",
       "    <tr>\n",
       "      <th>1</th>\n",
       "      <td>Microsoft</td>\n",
       "      <td>529</td>\n",
       "      <td>6814</td>\n",
       "      <td>13</td>\n",
       "      <td>Windows Server 2012</td>\n",
       "      <td>NaN</td>\n",
       "      <td>860</td>\n",
       "    </tr>\n",
       "    <tr>\n",
       "      <th>2</th>\n",
       "      <td>Google</td>\n",
       "      <td>84</td>\n",
       "      <td>4572</td>\n",
       "      <td>54</td>\n",
       "      <td>Chrome</td>\n",
       "      <td>1.0.154.53</td>\n",
       "      <td>895</td>\n",
       "    </tr>\n",
       "    <tr>\n",
       "      <th>3</th>\n",
       "      <td>Google</td>\n",
       "      <td>84</td>\n",
       "      <td>4572</td>\n",
       "      <td>54</td>\n",
       "      <td>Chrome</td>\n",
       "      <td>1.0.154.59</td>\n",
       "      <td>892</td>\n",
       "    </tr>\n",
       "    <tr>\n",
       "      <th>4</th>\n",
       "      <td>Google</td>\n",
       "      <td>84</td>\n",
       "      <td>4572</td>\n",
       "      <td>54</td>\n",
       "      <td>Chrome</td>\n",
       "      <td>2.0.172.30</td>\n",
       "      <td>888</td>\n",
       "    </tr>\n",
       "  </tbody>\n",
       "</table>\n",
       "</div>"
      ],
      "text/plain": [
       "  Vendor Name  Number of Products  Number of Vulnerabilities  \\\n",
       "0   Microsoft                 529                       6814   \n",
       "1   Microsoft                 529                       6814   \n",
       "2      Google                  84                       4572   \n",
       "3      Google                  84                       4572   \n",
       "4      Google                  84                       4572   \n",
       "\n",
       "   #Vulnerabilities/#Products         Product Name      Version  \\\n",
       "0                          13  Windows Server 2012          R2    \n",
       "1                          13  Windows Server 2012          NaN   \n",
       "2                          54               Chrome  1.0.154.53    \n",
       "3                          54               Chrome  1.0.154.59    \n",
       "4                          54               Chrome  2.0.172.30    \n",
       "\n",
       "   Number of Total Vulnerabilities  \n",
       "0                              940  \n",
       "1                              860  \n",
       "2                              895  \n",
       "3                              892  \n",
       "4                              888  "
      ]
     },
     "execution_count": 297,
     "metadata": {},
     "output_type": "execute_result"
    }
   ],
   "source": [
    "top_vendors.head()"
   ]
  },
  {
   "cell_type": "markdown",
   "metadata": {},
   "source": [
    "# Data Load Process Added Part 4"
   ]
  },
  {
   "cell_type": "code",
   "execution_count": 298,
   "metadata": {},
   "outputs": [],
   "source": [
    "import sqlite3\n",
    "conn = sqlite3.connect(\"F:\\CIS 3120\\wall_of_shame.db\")#create a database\n",
    "cur = conn.cursor()"
   ]
  },
  {
   "cell_type": "code",
   "execution_count": null,
   "metadata": {},
   "outputs": [],
   "source": [
    "#transfers pandas DataFrame to database\n",
    "#replace table if it already exist\n",
    "data_breaches.to_sql('BREACHES', conn, if_exists='replace', index = False)"
   ]
  },
  {
   "cell_type": "code",
   "execution_count": 300,
   "metadata": {},
   "outputs": [
    {
     "name": "stdout",
     "output_type": "stream",
     "text": [
      "\n",
      "The SQLite connection is closed.\n"
     ]
    }
   ],
   "source": [
    "if (cur.connection == conn):\n",
    "        conn.close()\n",
    "        print(\"\\nThe SQLite connection is closed.\")"
   ]
  },
  {
   "cell_type": "markdown",
   "metadata": {},
   "source": [
    "# Data Aggregation Added Part 5"
   ]
  },
  {
   "cell_type": "code",
   "execution_count": 301,
   "metadata": {},
   "outputs": [],
   "source": [
    "#show total for each company\n",
    "victims_by_entity = healthcare_providers.groupby(\"Name of Covered Entity\").sum()\n",
    "#show results for companies that caused at 500,000 people to have their information compromised\n",
    "victims_by_entity = victims_by_entity[victims_by_entity['Individuals Affected'] >= 500000]"
   ]
  },
  {
   "cell_type": "code",
   "execution_count": 302,
   "metadata": {},
   "outputs": [
    {
     "data": {
      "text/html": [
       "<div>\n",
       "<style scoped>\n",
       "    .dataframe tbody tr th:only-of-type {\n",
       "        vertical-align: middle;\n",
       "    }\n",
       "\n",
       "    .dataframe tbody tr th {\n",
       "        vertical-align: top;\n",
       "    }\n",
       "\n",
       "    .dataframe thead th {\n",
       "        text-align: right;\n",
       "    }\n",
       "</style>\n",
       "<table border=\"1\" class=\"dataframe\">\n",
       "  <thead>\n",
       "    <tr style=\"text-align: right;\">\n",
       "      <th></th>\n",
       "      <th>Individuals Affected</th>\n",
       "    </tr>\n",
       "    <tr>\n",
       "      <th>Name of Covered Entity</th>\n",
       "      <th></th>\n",
       "    </tr>\n",
       "  </thead>\n",
       "  <tbody>\n",
       "    <tr>\n",
       "      <th>CNO ACE</th>\n",
       "      <td>566217</td>\n",
       "    </tr>\n",
       "    <tr>\n",
       "      <th>Clinical Pathology Laboratories, Inc.</th>\n",
       "      <td>1733836</td>\n",
       "    </tr>\n",
       "    <tr>\n",
       "      <th>Dominion Dental Services, Inc., Dominion National Insurance Company, and Dominion Dental Services USA, Inc.</th>\n",
       "      <td>2964778</td>\n",
       "    </tr>\n",
       "    <tr>\n",
       "      <th>Health Share of Oregon</th>\n",
       "      <td>654362</td>\n",
       "    </tr>\n",
       "    <tr>\n",
       "      <th>Inmediata Health Group, Corp.</th>\n",
       "      <td>1565338</td>\n",
       "    </tr>\n",
       "    <tr>\n",
       "      <th>Iowa Health System d/b/a UnityPoint Health</th>\n",
       "      <td>1421107</td>\n",
       "    </tr>\n",
       "    <tr>\n",
       "      <th>Optum360, LLC</th>\n",
       "      <td>11500000</td>\n",
       "    </tr>\n",
       "    <tr>\n",
       "      <th>UW Medicine</th>\n",
       "      <td>973024</td>\n",
       "    </tr>\n",
       "    <tr>\n",
       "      <th>Women's Care Florida, LLC</th>\n",
       "      <td>528188</td>\n",
       "    </tr>\n",
       "  </tbody>\n",
       "</table>\n",
       "</div>"
      ],
      "text/plain": [
       "                                                    Individuals Affected\n",
       "Name of Covered Entity                                                  \n",
       "CNO ACE                                                           566217\n",
       "Clinical Pathology Laboratories, Inc.                            1733836\n",
       "Dominion Dental Services, Inc., Dominion Nation...               2964778\n",
       "Health Share of Oregon                                            654362\n",
       "Inmediata Health Group, Corp.                                    1565338\n",
       "Iowa Health System d/b/a UnityPoint Health                       1421107\n",
       "Optum360, LLC                                                   11500000\n",
       "UW Medicine                                                       973024\n",
       "Women's Care Florida, LLC                                         528188"
      ]
     },
     "execution_count": 302,
     "metadata": {},
     "output_type": "execute_result"
    }
   ],
   "source": [
    "victims_by_entity"
   ]
  },
  {
   "cell_type": "markdown",
   "metadata": {},
   "source": [
    "# Data Visualization Added Part 6"
   ]
  },
  {
   "cell_type": "code",
   "execution_count": 303,
   "metadata": {
    "scrolled": true
   },
   "outputs": [
    {
     "data": {
      "text/html": [
       "\n",
       "    <div class=\"bk-root\">\n",
       "        <a href=\"https://bokeh.org\" target=\"_blank\" class=\"bk-logo bk-logo-small bk-logo-notebook\"></a>\n",
       "        <span id=\"41804\">Loading BokehJS ...</span>\n",
       "    </div>"
      ]
     },
     "metadata": {},
     "output_type": "display_data"
    },
    {
     "data": {
      "application/javascript": [
       "\n",
       "(function(root) {\n",
       "  function now() {\n",
       "    return new Date();\n",
       "  }\n",
       "\n",
       "  var force = true;\n",
       "\n",
       "  if (typeof root._bokeh_onload_callbacks === \"undefined\" || force === true) {\n",
       "    root._bokeh_onload_callbacks = [];\n",
       "    root._bokeh_is_loading = undefined;\n",
       "  }\n",
       "\n",
       "  var JS_MIME_TYPE = 'application/javascript';\n",
       "  var HTML_MIME_TYPE = 'text/html';\n",
       "  var EXEC_MIME_TYPE = 'application/vnd.bokehjs_exec.v0+json';\n",
       "  var CLASS_NAME = 'output_bokeh rendered_html';\n",
       "\n",
       "  /**\n",
       "   * Render data to the DOM node\n",
       "   */\n",
       "  function render(props, node) {\n",
       "    var script = document.createElement(\"script\");\n",
       "    node.appendChild(script);\n",
       "  }\n",
       "\n",
       "  /**\n",
       "   * Handle when an output is cleared or removed\n",
       "   */\n",
       "  function handleClearOutput(event, handle) {\n",
       "    var cell = handle.cell;\n",
       "\n",
       "    var id = cell.output_area._bokeh_element_id;\n",
       "    var server_id = cell.output_area._bokeh_server_id;\n",
       "    // Clean up Bokeh references\n",
       "    if (id != null && id in Bokeh.index) {\n",
       "      Bokeh.index[id].model.document.clear();\n",
       "      delete Bokeh.index[id];\n",
       "    }\n",
       "\n",
       "    if (server_id !== undefined) {\n",
       "      // Clean up Bokeh references\n",
       "      var cmd = \"from bokeh.io.state import curstate; print(curstate().uuid_to_server['\" + server_id + \"'].get_sessions()[0].document.roots[0]._id)\";\n",
       "      cell.notebook.kernel.execute(cmd, {\n",
       "        iopub: {\n",
       "          output: function(msg) {\n",
       "            var id = msg.content.text.trim();\n",
       "            if (id in Bokeh.index) {\n",
       "              Bokeh.index[id].model.document.clear();\n",
       "              delete Bokeh.index[id];\n",
       "            }\n",
       "          }\n",
       "        }\n",
       "      });\n",
       "      // Destroy server and session\n",
       "      var cmd = \"import bokeh.io.notebook as ion; ion.destroy_server('\" + server_id + \"')\";\n",
       "      cell.notebook.kernel.execute(cmd);\n",
       "    }\n",
       "  }\n",
       "\n",
       "  /**\n",
       "   * Handle when a new output is added\n",
       "   */\n",
       "  function handleAddOutput(event, handle) {\n",
       "    var output_area = handle.output_area;\n",
       "    var output = handle.output;\n",
       "\n",
       "    // limit handleAddOutput to display_data with EXEC_MIME_TYPE content only\n",
       "    if ((output.output_type != \"display_data\") || (!output.data.hasOwnProperty(EXEC_MIME_TYPE))) {\n",
       "      return\n",
       "    }\n",
       "\n",
       "    var toinsert = output_area.element.find(\".\" + CLASS_NAME.split(' ')[0]);\n",
       "\n",
       "    if (output.metadata[EXEC_MIME_TYPE][\"id\"] !== undefined) {\n",
       "      toinsert[toinsert.length - 1].firstChild.textContent = output.data[JS_MIME_TYPE];\n",
       "      // store reference to embed id on output_area\n",
       "      output_area._bokeh_element_id = output.metadata[EXEC_MIME_TYPE][\"id\"];\n",
       "    }\n",
       "    if (output.metadata[EXEC_MIME_TYPE][\"server_id\"] !== undefined) {\n",
       "      var bk_div = document.createElement(\"div\");\n",
       "      bk_div.innerHTML = output.data[HTML_MIME_TYPE];\n",
       "      var script_attrs = bk_div.children[0].attributes;\n",
       "      for (var i = 0; i < script_attrs.length; i++) {\n",
       "        toinsert[toinsert.length - 1].firstChild.setAttribute(script_attrs[i].name, script_attrs[i].value);\n",
       "      }\n",
       "      // store reference to server id on output_area\n",
       "      output_area._bokeh_server_id = output.metadata[EXEC_MIME_TYPE][\"server_id\"];\n",
       "    }\n",
       "  }\n",
       "\n",
       "  function register_renderer(events, OutputArea) {\n",
       "\n",
       "    function append_mime(data, metadata, element) {\n",
       "      // create a DOM node to render to\n",
       "      var toinsert = this.create_output_subarea(\n",
       "        metadata,\n",
       "        CLASS_NAME,\n",
       "        EXEC_MIME_TYPE\n",
       "      );\n",
       "      this.keyboard_manager.register_events(toinsert);\n",
       "      // Render to node\n",
       "      var props = {data: data, metadata: metadata[EXEC_MIME_TYPE]};\n",
       "      render(props, toinsert[toinsert.length - 1]);\n",
       "      element.append(toinsert);\n",
       "      return toinsert\n",
       "    }\n",
       "\n",
       "    /* Handle when an output is cleared or removed */\n",
       "    events.on('clear_output.CodeCell', handleClearOutput);\n",
       "    events.on('delete.Cell', handleClearOutput);\n",
       "\n",
       "    /* Handle when a new output is added */\n",
       "    events.on('output_added.OutputArea', handleAddOutput);\n",
       "\n",
       "    /**\n",
       "     * Register the mime type and append_mime function with output_area\n",
       "     */\n",
       "    OutputArea.prototype.register_mime_type(EXEC_MIME_TYPE, append_mime, {\n",
       "      /* Is output safe? */\n",
       "      safe: true,\n",
       "      /* Index of renderer in `output_area.display_order` */\n",
       "      index: 0\n",
       "    });\n",
       "  }\n",
       "\n",
       "  // register the mime type if in Jupyter Notebook environment and previously unregistered\n",
       "  if (root.Jupyter !== undefined) {\n",
       "    var events = require('base/js/events');\n",
       "    var OutputArea = require('notebook/js/outputarea').OutputArea;\n",
       "\n",
       "    if (OutputArea.prototype.mime_types().indexOf(EXEC_MIME_TYPE) == -1) {\n",
       "      register_renderer(events, OutputArea);\n",
       "    }\n",
       "  }\n",
       "\n",
       "  \n",
       "  if (typeof (root._bokeh_timeout) === \"undefined\" || force === true) {\n",
       "    root._bokeh_timeout = Date.now() + 5000;\n",
       "    root._bokeh_failed_load = false;\n",
       "  }\n",
       "\n",
       "  var NB_LOAD_WARNING = {'data': {'text/html':\n",
       "     \"<div style='background-color: #fdd'>\\n\"+\n",
       "     \"<p>\\n\"+\n",
       "     \"BokehJS does not appear to have successfully loaded. If loading BokehJS from CDN, this \\n\"+\n",
       "     \"may be due to a slow or bad network connection. Possible fixes:\\n\"+\n",
       "     \"</p>\\n\"+\n",
       "     \"<ul>\\n\"+\n",
       "     \"<li>re-rerun `output_notebook()` to attempt to load from CDN again, or</li>\\n\"+\n",
       "     \"<li>use INLINE resources instead, as so:</li>\\n\"+\n",
       "     \"</ul>\\n\"+\n",
       "     \"<code>\\n\"+\n",
       "     \"from bokeh.resources import INLINE\\n\"+\n",
       "     \"output_notebook(resources=INLINE)\\n\"+\n",
       "     \"</code>\\n\"+\n",
       "     \"</div>\"}};\n",
       "\n",
       "  function display_loaded() {\n",
       "    var el = document.getElementById(\"41804\");\n",
       "    if (el != null) {\n",
       "      el.textContent = \"BokehJS is loading...\";\n",
       "    }\n",
       "    if (root.Bokeh !== undefined) {\n",
       "      if (el != null) {\n",
       "        el.textContent = \"BokehJS \" + root.Bokeh.version + \" successfully loaded.\";\n",
       "      }\n",
       "    } else if (Date.now() < root._bokeh_timeout) {\n",
       "      setTimeout(display_loaded, 100)\n",
       "    }\n",
       "  }\n",
       "\n",
       "\n",
       "  function run_callbacks() {\n",
       "    try {\n",
       "      root._bokeh_onload_callbacks.forEach(function(callback) {\n",
       "        if (callback != null)\n",
       "          callback();\n",
       "      });\n",
       "    } finally {\n",
       "      delete root._bokeh_onload_callbacks\n",
       "    }\n",
       "    console.debug(\"Bokeh: all callbacks have finished\");\n",
       "  }\n",
       "\n",
       "  function load_libs(css_urls, js_urls, callback) {\n",
       "    if (css_urls == null) css_urls = [];\n",
       "    if (js_urls == null) js_urls = [];\n",
       "\n",
       "    root._bokeh_onload_callbacks.push(callback);\n",
       "    if (root._bokeh_is_loading > 0) {\n",
       "      console.debug(\"Bokeh: BokehJS is being loaded, scheduling callback at\", now());\n",
       "      return null;\n",
       "    }\n",
       "    if (js_urls == null || js_urls.length === 0) {\n",
       "      run_callbacks();\n",
       "      return null;\n",
       "    }\n",
       "    console.debug(\"Bokeh: BokehJS not loaded, scheduling load and callback at\", now());\n",
       "    root._bokeh_is_loading = css_urls.length + js_urls.length;\n",
       "\n",
       "    function on_load() {\n",
       "      root._bokeh_is_loading--;\n",
       "      if (root._bokeh_is_loading === 0) {\n",
       "        console.debug(\"Bokeh: all BokehJS libraries/stylesheets loaded\");\n",
       "        run_callbacks()\n",
       "      }\n",
       "    }\n",
       "\n",
       "    function on_error() {\n",
       "      console.error(\"failed to load \" + url);\n",
       "    }\n",
       "\n",
       "    for (var i = 0; i < css_urls.length; i++) {\n",
       "      var url = css_urls[i];\n",
       "      const element = document.createElement(\"link\");\n",
       "      element.onload = on_load;\n",
       "      element.onerror = on_error;\n",
       "      element.rel = \"stylesheet\";\n",
       "      element.type = \"text/css\";\n",
       "      element.href = url;\n",
       "      console.debug(\"Bokeh: injecting link tag for BokehJS stylesheet: \", url);\n",
       "      document.body.appendChild(element);\n",
       "    }\n",
       "\n",
       "    for (var i = 0; i < js_urls.length; i++) {\n",
       "      var url = js_urls[i];\n",
       "      var element = document.createElement('script');\n",
       "      element.onload = on_load;\n",
       "      element.onerror = on_error;\n",
       "      element.async = false;\n",
       "      element.src = url;\n",
       "      console.debug(\"Bokeh: injecting script tag for BokehJS library: \", url);\n",
       "      document.head.appendChild(element);\n",
       "    }\n",
       "  };var element = document.getElementById(\"41804\");\n",
       "  if (element == null) {\n",
       "    console.error(\"Bokeh: ERROR: autoload.js configured with elementid '41804' but no matching script tag was found. \")\n",
       "    return false;\n",
       "  }\n",
       "\n",
       "  function inject_raw_css(css) {\n",
       "    const element = document.createElement(\"style\");\n",
       "    element.appendChild(document.createTextNode(css));\n",
       "    document.body.appendChild(element);\n",
       "  }\n",
       "\n",
       "  \n",
       "  var js_urls = [\"https://cdn.pydata.org/bokeh/release/bokeh-1.4.0.min.js\", \"https://cdn.pydata.org/bokeh/release/bokeh-widgets-1.4.0.min.js\", \"https://cdn.pydata.org/bokeh/release/bokeh-tables-1.4.0.min.js\", \"https://cdn.pydata.org/bokeh/release/bokeh-gl-1.4.0.min.js\"];\n",
       "  var css_urls = [];\n",
       "  \n",
       "\n",
       "  var inline_js = [\n",
       "    function(Bokeh) {\n",
       "      Bokeh.set_log_level(\"info\");\n",
       "    },\n",
       "    function(Bokeh) {\n",
       "    \n",
       "    \n",
       "    }\n",
       "  ];\n",
       "\n",
       "  function run_inline_js() {\n",
       "    \n",
       "    if (root.Bokeh !== undefined || force === true) {\n",
       "      \n",
       "    for (var i = 0; i < inline_js.length; i++) {\n",
       "      inline_js[i].call(root, root.Bokeh);\n",
       "    }\n",
       "    if (force === true) {\n",
       "        display_loaded();\n",
       "      }} else if (Date.now() < root._bokeh_timeout) {\n",
       "      setTimeout(run_inline_js, 100);\n",
       "    } else if (!root._bokeh_failed_load) {\n",
       "      console.log(\"Bokeh: BokehJS failed to load within specified timeout.\");\n",
       "      root._bokeh_failed_load = true;\n",
       "    } else if (force !== true) {\n",
       "      var cell = $(document.getElementById(\"41804\")).parents('.cell').data().cell;\n",
       "      cell.output_area.append_execute_result(NB_LOAD_WARNING)\n",
       "    }\n",
       "\n",
       "  }\n",
       "\n",
       "  if (root._bokeh_is_loading === 0) {\n",
       "    console.debug(\"Bokeh: BokehJS loaded, going straight to plotting\");\n",
       "    run_inline_js();\n",
       "  } else {\n",
       "    load_libs(css_urls, js_urls, function() {\n",
       "      console.debug(\"Bokeh: BokehJS plotting callback run at\", now());\n",
       "      run_inline_js();\n",
       "    });\n",
       "  }\n",
       "}(window));"
      ],
      "application/vnd.bokehjs_load.v0+json": "\n(function(root) {\n  function now() {\n    return new Date();\n  }\n\n  var force = true;\n\n  if (typeof root._bokeh_onload_callbacks === \"undefined\" || force === true) {\n    root._bokeh_onload_callbacks = [];\n    root._bokeh_is_loading = undefined;\n  }\n\n  \n\n  \n  if (typeof (root._bokeh_timeout) === \"undefined\" || force === true) {\n    root._bokeh_timeout = Date.now() + 5000;\n    root._bokeh_failed_load = false;\n  }\n\n  var NB_LOAD_WARNING = {'data': {'text/html':\n     \"<div style='background-color: #fdd'>\\n\"+\n     \"<p>\\n\"+\n     \"BokehJS does not appear to have successfully loaded. If loading BokehJS from CDN, this \\n\"+\n     \"may be due to a slow or bad network connection. Possible fixes:\\n\"+\n     \"</p>\\n\"+\n     \"<ul>\\n\"+\n     \"<li>re-rerun `output_notebook()` to attempt to load from CDN again, or</li>\\n\"+\n     \"<li>use INLINE resources instead, as so:</li>\\n\"+\n     \"</ul>\\n\"+\n     \"<code>\\n\"+\n     \"from bokeh.resources import INLINE\\n\"+\n     \"output_notebook(resources=INLINE)\\n\"+\n     \"</code>\\n\"+\n     \"</div>\"}};\n\n  function display_loaded() {\n    var el = document.getElementById(\"41804\");\n    if (el != null) {\n      el.textContent = \"BokehJS is loading...\";\n    }\n    if (root.Bokeh !== undefined) {\n      if (el != null) {\n        el.textContent = \"BokehJS \" + root.Bokeh.version + \" successfully loaded.\";\n      }\n    } else if (Date.now() < root._bokeh_timeout) {\n      setTimeout(display_loaded, 100)\n    }\n  }\n\n\n  function run_callbacks() {\n    try {\n      root._bokeh_onload_callbacks.forEach(function(callback) {\n        if (callback != null)\n          callback();\n      });\n    } finally {\n      delete root._bokeh_onload_callbacks\n    }\n    console.debug(\"Bokeh: all callbacks have finished\");\n  }\n\n  function load_libs(css_urls, js_urls, callback) {\n    if (css_urls == null) css_urls = [];\n    if (js_urls == null) js_urls = [];\n\n    root._bokeh_onload_callbacks.push(callback);\n    if (root._bokeh_is_loading > 0) {\n      console.debug(\"Bokeh: BokehJS is being loaded, scheduling callback at\", now());\n      return null;\n    }\n    if (js_urls == null || js_urls.length === 0) {\n      run_callbacks();\n      return null;\n    }\n    console.debug(\"Bokeh: BokehJS not loaded, scheduling load and callback at\", now());\n    root._bokeh_is_loading = css_urls.length + js_urls.length;\n\n    function on_load() {\n      root._bokeh_is_loading--;\n      if (root._bokeh_is_loading === 0) {\n        console.debug(\"Bokeh: all BokehJS libraries/stylesheets loaded\");\n        run_callbacks()\n      }\n    }\n\n    function on_error() {\n      console.error(\"failed to load \" + url);\n    }\n\n    for (var i = 0; i < css_urls.length; i++) {\n      var url = css_urls[i];\n      const element = document.createElement(\"link\");\n      element.onload = on_load;\n      element.onerror = on_error;\n      element.rel = \"stylesheet\";\n      element.type = \"text/css\";\n      element.href = url;\n      console.debug(\"Bokeh: injecting link tag for BokehJS stylesheet: \", url);\n      document.body.appendChild(element);\n    }\n\n    for (var i = 0; i < js_urls.length; i++) {\n      var url = js_urls[i];\n      var element = document.createElement('script');\n      element.onload = on_load;\n      element.onerror = on_error;\n      element.async = false;\n      element.src = url;\n      console.debug(\"Bokeh: injecting script tag for BokehJS library: \", url);\n      document.head.appendChild(element);\n    }\n  };var element = document.getElementById(\"41804\");\n  if (element == null) {\n    console.error(\"Bokeh: ERROR: autoload.js configured with elementid '41804' but no matching script tag was found. \")\n    return false;\n  }\n\n  function inject_raw_css(css) {\n    const element = document.createElement(\"style\");\n    element.appendChild(document.createTextNode(css));\n    document.body.appendChild(element);\n  }\n\n  \n  var js_urls = [\"https://cdn.pydata.org/bokeh/release/bokeh-1.4.0.min.js\", \"https://cdn.pydata.org/bokeh/release/bokeh-widgets-1.4.0.min.js\", \"https://cdn.pydata.org/bokeh/release/bokeh-tables-1.4.0.min.js\", \"https://cdn.pydata.org/bokeh/release/bokeh-gl-1.4.0.min.js\"];\n  var css_urls = [];\n  \n\n  var inline_js = [\n    function(Bokeh) {\n      Bokeh.set_log_level(\"info\");\n    },\n    function(Bokeh) {\n    \n    \n    }\n  ];\n\n  function run_inline_js() {\n    \n    if (root.Bokeh !== undefined || force === true) {\n      \n    for (var i = 0; i < inline_js.length; i++) {\n      inline_js[i].call(root, root.Bokeh);\n    }\n    if (force === true) {\n        display_loaded();\n      }} else if (Date.now() < root._bokeh_timeout) {\n      setTimeout(run_inline_js, 100);\n    } else if (!root._bokeh_failed_load) {\n      console.log(\"Bokeh: BokehJS failed to load within specified timeout.\");\n      root._bokeh_failed_load = true;\n    } else if (force !== true) {\n      var cell = $(document.getElementById(\"41804\")).parents('.cell').data().cell;\n      cell.output_area.append_execute_result(NB_LOAD_WARNING)\n    }\n\n  }\n\n  if (root._bokeh_is_loading === 0) {\n    console.debug(\"Bokeh: BokehJS loaded, going straight to plotting\");\n    run_inline_js();\n  } else {\n    load_libs(css_urls, js_urls, function() {\n      console.debug(\"Bokeh: BokehJS plotting callback run at\", now());\n      run_inline_js();\n    });\n  }\n}(window));"
     },
     "metadata": {},
     "output_type": "display_data"
    }
   ],
   "source": [
    "import scipy.special\n",
    "from bokeh.io import output_file, output_notebook\n",
    "from bokeh.plotting import figure, show\n",
    "from bokeh.models import ColumnDataSource\n",
    "from bokeh.layouts import row, column, gridplot\n",
    "from bokeh.models.widgets import Tabs, Panel\n",
    "output_notebook() # render inline in a Jupyter Notebook"
   ]
  },
  {
   "cell_type": "code",
   "execution_count": 304,
   "metadata": {
    "scrolled": false
   },
   "outputs": [
    {
     "data": {
      "text/html": [
       "\n",
       "\n",
       "\n",
       "\n",
       "\n",
       "\n",
       "  <div class=\"bk-root\" id=\"1039d3b2-9ce8-41f9-8917-97df830b0b9a\" data-root-id=\"41805\"></div>\n"
      ]
     },
     "metadata": {},
     "output_type": "display_data"
    },
    {
     "data": {
      "application/javascript": [
       "(function(root) {\n",
       "  function embed_document(root) {\n",
       "    \n",
       "  var docs_json = {\"c24792e1-8e47-43a9-a69e-d84f8e522144\":{\"roots\":{\"references\":[{\"attributes\":{\"below\":[{\"id\":\"41816\",\"type\":\"LinearAxis\"}],\"center\":[{\"id\":\"41820\",\"type\":\"Grid\"},{\"id\":\"41825\",\"type\":\"Grid\"},{\"id\":\"41842\",\"type\":\"Legend\"}],\"left\":[{\"id\":\"41821\",\"type\":\"LinearAxis\"}],\"plot_height\":350,\"renderers\":[{\"id\":\"41835\",\"type\":\"GlyphRenderer\"}],\"title\":{\"id\":\"41806\",\"type\":\"Title\"},\"toolbar\":{\"id\":\"41827\",\"type\":\"Toolbar\"},\"toolbar_location\":null,\"x_range\":{\"id\":\"41808\",\"type\":\"Range1d\"},\"x_scale\":{\"id\":\"41812\",\"type\":\"LinearScale\"},\"y_range\":{\"id\":\"41810\",\"type\":\"DataRange1d\"},\"y_scale\":{\"id\":\"41814\",\"type\":\"LinearScale\"}},\"id\":\"41805\",\"subtype\":\"Figure\",\"type\":\"Plot\"},{\"attributes\":{\"callback\":null,\"tooltips\":\"@company: @victims\"},\"id\":\"41826\",\"type\":\"HoverTool\"},{\"attributes\":{\"callback\":null,\"data\":{\"angle\":{\"__ndarray__\":\"PUJs8XvJxD/0RsfnkNPfP1JtSDL6Nes/fQx3/OUFyD/k4WeDxLvcPwJC3+4AFto/wowAcwljCkAOee1EZNzRPxMLgGMTZMM/\",\"dtype\":\"float64\",\"shape\":[9]},\"color\":[\"#000003\",\"#1F0C47\",\"#550F6D\",\"#88216A\",\"#BA3655\",\"#E35832\",\"#F98C09\",\"#F8C931\",\"#FCFEA4\"],\"company\":[\"CNO ACE\",\"Clinical Pathology Laboratories, Inc.\",\"Dominion Dental Services, Inc., Dominion National Insurance Company, and Dominion Dental Services USA, Inc.\",\"Health Share of Oregon\",\"Inmediata Health Group, Corp.\",\"Iowa Health System d/b/a UnityPoint Health \",\"Optum360, LLC\",\"UW Medicine\",\"Women's Care Florida, LLC\"],\"index\":[0,1,2,3,4,5,6,7,8],\"victims\":[566217,1733836,2964778,654362,1565338,1421107,11500000,973024,528188]},\"selected\":{\"id\":\"42521\",\"type\":\"Selection\"},\"selection_policy\":{\"id\":\"42522\",\"type\":\"UnionRenderers\"}},\"id\":\"41831\",\"type\":\"ColumnDataSource\"},{\"attributes\":{},\"id\":\"42521\",\"type\":\"Selection\"},{\"attributes\":{\"field\":\"angle\"},\"id\":\"41830\",\"type\":\"CumSum\"},{\"attributes\":{\"active_drag\":\"auto\",\"active_inspect\":\"auto\",\"active_multi\":null,\"active_scroll\":\"auto\",\"active_tap\":\"auto\",\"tools\":[{\"id\":\"41826\",\"type\":\"HoverTool\"}]},\"id\":\"41827\",\"type\":\"Toolbar\"},{\"attributes\":{},\"id\":\"42522\",\"type\":\"UnionRenderers\"},{\"attributes\":{\"label\":{\"field\":\"company\"},\"renderers\":[{\"id\":\"41835\",\"type\":\"GlyphRenderer\"}]},\"id\":\"41843\",\"type\":\"LegendItem\"},{\"attributes\":{\"dimension\":1,\"grid_line_color\":null,\"ticker\":{\"id\":\"41822\",\"type\":\"BasicTicker\"}},\"id\":\"41825\",\"type\":\"Grid\"},{\"attributes\":{},\"id\":\"41841\",\"type\":\"BasicTickFormatter\"},{\"attributes\":{},\"id\":\"41814\",\"type\":\"LinearScale\"},{\"attributes\":{\"source\":{\"id\":\"41831\",\"type\":\"ColumnDataSource\"}},\"id\":\"41836\",\"type\":\"CDSView\"},{\"attributes\":{\"data_source\":{\"id\":\"41831\",\"type\":\"ColumnDataSource\"},\"glyph\":{\"id\":\"41833\",\"type\":\"Wedge\"},\"hover_glyph\":null,\"muted_glyph\":null,\"nonselection_glyph\":{\"id\":\"41834\",\"type\":\"Wedge\"},\"selection_glyph\":null,\"view\":{\"id\":\"41836\",\"type\":\"CDSView\"}},\"id\":\"41835\",\"type\":\"GlyphRenderer\"},{\"attributes\":{\"text\":\"Largest Healthcare Data Breaches\"},\"id\":\"41806\",\"type\":\"Title\"},{\"attributes\":{\"callback\":null},\"id\":\"41810\",\"type\":\"DataRange1d\"},{\"attributes\":{\"callback\":null,\"start\":-0.5},\"id\":\"41808\",\"type\":\"Range1d\"},{\"attributes\":{},\"id\":\"41812\",\"type\":\"LinearScale\"},{\"attributes\":{\"items\":[{\"id\":\"41843\",\"type\":\"LegendItem\"}],\"location\":[360,10]},\"id\":\"41842\",\"type\":\"Legend\"},{\"attributes\":{\"axis_label\":null,\"formatter\":{\"id\":\"41839\",\"type\":\"BasicTickFormatter\"},\"ticker\":{\"id\":\"41817\",\"type\":\"BasicTicker\"},\"visible\":false},\"id\":\"41816\",\"type\":\"LinearAxis\"},{\"attributes\":{\"field\":\"angle\",\"include_zero\":true},\"id\":\"41829\",\"type\":\"CumSum\"},{\"attributes\":{},\"id\":\"41839\",\"type\":\"BasicTickFormatter\"},{\"attributes\":{\"end_angle\":{\"expr\":{\"id\":\"41830\",\"type\":\"CumSum\"},\"units\":\"rad\"},\"fill_color\":{\"field\":\"color\"},\"line_color\":{\"value\":\"white\"},\"radius\":{\"units\":\"data\",\"value\":0.4},\"start_angle\":{\"expr\":{\"id\":\"41829\",\"type\":\"CumSum\"},\"units\":\"rad\"},\"x\":{\"value\":0},\"y\":{\"value\":1}},\"id\":\"41833\",\"type\":\"Wedge\"},{\"attributes\":{\"end_angle\":{\"expr\":{\"id\":\"41830\",\"type\":\"CumSum\"},\"units\":\"rad\"},\"fill_alpha\":{\"value\":0.1},\"fill_color\":{\"value\":\"#1f77b4\"},\"line_alpha\":{\"value\":0.1},\"line_color\":{\"value\":\"#1f77b4\"},\"radius\":{\"units\":\"data\",\"value\":0.4},\"start_angle\":{\"expr\":{\"id\":\"41829\",\"type\":\"CumSum\"},\"units\":\"rad\"},\"x\":{\"value\":0},\"y\":{\"value\":1}},\"id\":\"41834\",\"type\":\"Wedge\"},{\"attributes\":{},\"id\":\"41822\",\"type\":\"BasicTicker\"},{\"attributes\":{},\"id\":\"41817\",\"type\":\"BasicTicker\"},{\"attributes\":{\"grid_line_color\":null,\"ticker\":{\"id\":\"41817\",\"type\":\"BasicTicker\"}},\"id\":\"41820\",\"type\":\"Grid\"},{\"attributes\":{\"axis_label\":null,\"formatter\":{\"id\":\"41841\",\"type\":\"BasicTickFormatter\"},\"ticker\":{\"id\":\"41822\",\"type\":\"BasicTicker\"},\"visible\":false},\"id\":\"41821\",\"type\":\"LinearAxis\"}],\"root_ids\":[\"41805\"]},\"title\":\"Bokeh Application\",\"version\":\"1.4.0\"}};\n",
       "  var render_items = [{\"docid\":\"c24792e1-8e47-43a9-a69e-d84f8e522144\",\"roots\":{\"41805\":\"1039d3b2-9ce8-41f9-8917-97df830b0b9a\"}}];\n",
       "  root.Bokeh.embed.embed_items_notebook(docs_json, render_items);\n",
       "\n",
       "  }\n",
       "  if (root.Bokeh !== undefined) {\n",
       "    embed_document(root);\n",
       "  } else {\n",
       "    var attempts = 0;\n",
       "    var timer = setInterval(function(root) {\n",
       "      if (root.Bokeh !== undefined) {\n",
       "        clearInterval(timer);\n",
       "        embed_document(root);\n",
       "      } else {\n",
       "        attempts++;\n",
       "        if (attempts > 100) {\n",
       "          clearInterval(timer);\n",
       "          console.log(\"Bokeh: ERROR: Unable to run BokehJS code because BokehJS library is missing\");\n",
       "        }\n",
       "      }\n",
       "    }, 10, root)\n",
       "  }\n",
       "})(window);"
      ],
      "application/vnd.bokehjs_exec.v0+json": ""
     },
     "metadata": {
      "application/vnd.bokehjs_exec.v0+json": {
       "id": "41805"
      }
     },
     "output_type": "display_data"
    }
   ],
   "source": [
    "# pie chart\n",
    "from math import pi\n",
    "from bokeh.palettes import inferno, viridis\n",
    "from bokeh.transform import cumsum\n",
    "\n",
    "x = victims_by_entity.to_dict()['Individuals Affected'] #creates dictionary\n",
    "#converts to Series with victims and company as columns\n",
    "data = pd.Series(x).reset_index(name='victims').rename(columns={'index':'company'})\n",
    "#creates percentage share of the pie\n",
    "data['angle'] = data['victims']/data['victims'].sum() * 2*pi\n",
    "#selects different color for each data point\n",
    "data['color'] = inferno(len(x))\n",
    "\n",
    "fig = figure(plot_height=350, title=\"Largest Healthcare Data Breaches\", toolbar_location=None,\n",
    "           tools=\"hover\", tooltips=\"@company: @victims\", x_range=(-0.5, 1.0)\n",
    "           )#hover tool so name and number appear when mouse hovers over the pie chart\n",
    "\n",
    "#creates the pie chart size and color scheme\n",
    "fig.wedge(x=0, y=1, radius=0.4,\n",
    "        start_angle=cumsum('angle', include_zero=True), end_angle=cumsum('angle'),\n",
    "        line_color=\"white\", fill_color='color', legend_field='company', source=data)\n",
    "\n",
    "fig.legend.location = (360,10)#location of legend\n",
    "fig.axis.axis_label=None\n",
    "fig.axis.visible=False\n",
    "fig.grid.grid_line_color = None\n",
    "\n",
    "# Show plot\n",
    "show(fig)"
   ]
  },
  {
   "cell_type": "code",
   "execution_count": 305,
   "metadata": {},
   "outputs": [],
   "source": [
    "#show results for the top 5 vendors who have at least 150 vulnerabilities per product\n",
    "top_five = vulnerabilities_by_vendor[vulnerabilities_by_vendor['#Vulnerabilities/#Products'] >= 150]"
   ]
  },
  {
   "cell_type": "code",
   "execution_count": 306,
   "metadata": {},
   "outputs": [
    {
     "data": {
      "text/html": [
       "\n",
       "\n",
       "\n",
       "\n",
       "\n",
       "\n",
       "  <div class=\"bk-root\" id=\"52573ceb-2c5a-4bf8-bb9e-73acb1889067\" data-root-id=\"42566\"></div>\n"
      ]
     },
     "metadata": {},
     "output_type": "display_data"
    },
    {
     "data": {
      "application/javascript": [
       "(function(root) {\n",
       "  function embed_document(root) {\n",
       "    \n",
       "  var docs_json = {\"2dd6443a-4baa-49fc-a0d1-f6af87f47c78\":{\"roots\":{\"references\":[{\"attributes\":{\"below\":[{\"id\":\"42577\",\"type\":\"CategoricalAxis\"}],\"center\":[{\"id\":\"42580\",\"type\":\"Grid\"},{\"id\":\"42585\",\"type\":\"Grid\"},{\"id\":\"42597\",\"type\":\"Legend\"}],\"left\":[{\"id\":\"42581\",\"type\":\"LinearAxis\"}],\"plot_height\":350,\"renderers\":[{\"id\":\"42590\",\"type\":\"GlyphRenderer\"}],\"title\":{\"id\":\"42567\",\"type\":\"Title\"},\"toolbar\":{\"id\":\"42586\",\"type\":\"Toolbar\"},\"toolbar_location\":null,\"x_range\":{\"id\":\"42569\",\"type\":\"FactorRange\"},\"x_scale\":{\"id\":\"42573\",\"type\":\"CategoricalScale\"},\"y_range\":{\"id\":\"42571\",\"type\":\"DataRange1d\"},\"y_scale\":{\"id\":\"42575\",\"type\":\"LinearScale\"}},\"id\":\"42566\",\"subtype\":\"Figure\",\"type\":\"Plot\"},{\"attributes\":{\"data_source\":{\"id\":\"42565\",\"type\":\"ColumnDataSource\"},\"glyph\":{\"id\":\"42588\",\"type\":\"VBar\"},\"hover_glyph\":null,\"muted_glyph\":null,\"nonselection_glyph\":{\"id\":\"42589\",\"type\":\"VBar\"},\"selection_glyph\":null,\"view\":{\"id\":\"42591\",\"type\":\"CDSView\"}},\"id\":\"42590\",\"type\":\"GlyphRenderer\"},{\"attributes\":{},\"id\":\"43284\",\"type\":\"UnionRenderers\"},{\"attributes\":{\"dimension\":1,\"ticker\":{\"id\":\"42582\",\"type\":\"BasicTicker\"}},\"id\":\"42585\",\"type\":\"Grid\"},{\"attributes\":{\"active_drag\":\"auto\",\"active_inspect\":\"auto\",\"active_multi\":null,\"active_scroll\":\"auto\",\"active_tap\":\"auto\"},\"id\":\"42586\",\"type\":\"Toolbar\"},{\"attributes\":{\"grid_line_color\":null,\"ticker\":{\"id\":\"42578\",\"type\":\"CategoricalTicker\"}},\"id\":\"42580\",\"type\":\"Grid\"},{\"attributes\":{},\"id\":\"42578\",\"type\":\"CategoricalTicker\"},{\"attributes\":{},\"id\":\"42575\",\"type\":\"LinearScale\"},{\"attributes\":{\"source\":{\"id\":\"42565\",\"type\":\"ColumnDataSource\"}},\"id\":\"42591\",\"type\":\"CDSView\"},{\"attributes\":{\"callback\":null},\"id\":\"42571\",\"type\":\"DataRange1d\"},{\"attributes\":{\"callback\":null,\"data\":{\"color\":[\"#440154\",\"#3B518A\",\"#208F8C\",\"#5BC862\",\"#FDE724\"],\"company\":[\"Wireshark\",\"Imagemagick\",\"Moodle\",\"Qemu\",\"Phpmyadmin\"],\"counts\":[576,182,378,276,252]},\"selected\":{\"id\":\"43283\",\"type\":\"Selection\"},\"selection_policy\":{\"id\":\"43284\",\"type\":\"UnionRenderers\"}},\"id\":\"42565\",\"type\":\"ColumnDataSource\"},{\"attributes\":{\"fill_color\":{\"field\":\"color\"},\"line_color\":{\"field\":\"color\"},\"top\":{\"field\":\"counts\"},\"width\":{\"value\":0.9},\"x\":{\"field\":\"company\"}},\"id\":\"42588\",\"type\":\"VBar\"},{\"attributes\":{},\"id\":\"42573\",\"type\":\"CategoricalScale\"},{\"attributes\":{\"callback\":null,\"factors\":[\"Wireshark\",\"Imagemagick\",\"Moodle\",\"Qemu\",\"Phpmyadmin\"]},\"id\":\"42569\",\"type\":\"FactorRange\"},{\"attributes\":{\"text\":\"Vulnerabilites per product\"},\"id\":\"42567\",\"type\":\"Title\"},{\"attributes\":{\"items\":[{\"id\":\"42598\",\"type\":\"LegendItem\"}],\"location\":\"top_center\",\"orientation\":\"horizontal\"},\"id\":\"42597\",\"type\":\"Legend\"},{\"attributes\":{\"fill_alpha\":{\"value\":0.1},\"fill_color\":{\"value\":\"#1f77b4\"},\"line_alpha\":{\"value\":0.1},\"line_color\":{\"value\":\"#1f77b4\"},\"top\":{\"field\":\"counts\"},\"width\":{\"value\":0.9},\"x\":{\"field\":\"company\"}},\"id\":\"42589\",\"type\":\"VBar\"},{\"attributes\":{\"label\":{\"field\":\"company\"},\"renderers\":[{\"id\":\"42590\",\"type\":\"GlyphRenderer\"}]},\"id\":\"42598\",\"type\":\"LegendItem\"},{\"attributes\":{},\"id\":\"43283\",\"type\":\"Selection\"},{\"attributes\":{\"formatter\":{\"id\":\"42596\",\"type\":\"BasicTickFormatter\"},\"ticker\":{\"id\":\"42582\",\"type\":\"BasicTicker\"}},\"id\":\"42581\",\"type\":\"LinearAxis\"},{\"attributes\":{\"formatter\":{\"id\":\"42594\",\"type\":\"CategoricalTickFormatter\"},\"ticker\":{\"id\":\"42578\",\"type\":\"CategoricalTicker\"}},\"id\":\"42577\",\"type\":\"CategoricalAxis\"},{\"attributes\":{},\"id\":\"42596\",\"type\":\"BasicTickFormatter\"},{\"attributes\":{},\"id\":\"42594\",\"type\":\"CategoricalTickFormatter\"},{\"attributes\":{},\"id\":\"42582\",\"type\":\"BasicTicker\"}],\"root_ids\":[\"42566\"]},\"title\":\"Bokeh Application\",\"version\":\"1.4.0\"}};\n",
       "  var render_items = [{\"docid\":\"2dd6443a-4baa-49fc-a0d1-f6af87f47c78\",\"roots\":{\"42566\":\"52573ceb-2c5a-4bf8-bb9e-73acb1889067\"}}];\n",
       "  root.Bokeh.embed.embed_items_notebook(docs_json, render_items);\n",
       "\n",
       "  }\n",
       "  if (root.Bokeh !== undefined) {\n",
       "    embed_document(root);\n",
       "  } else {\n",
       "    var attempts = 0;\n",
       "    var timer = setInterval(function(root) {\n",
       "      if (root.Bokeh !== undefined) {\n",
       "        clearInterval(timer);\n",
       "        embed_document(root);\n",
       "      } else {\n",
       "        attempts++;\n",
       "        if (attempts > 100) {\n",
       "          clearInterval(timer);\n",
       "          console.log(\"Bokeh: ERROR: Unable to run BokehJS code because BokehJS library is missing\");\n",
       "        }\n",
       "      }\n",
       "    }, 10, root)\n",
       "  }\n",
       "})(window);"
      ],
      "application/vnd.bokehjs_exec.v0+json": ""
     },
     "metadata": {
      "application/vnd.bokehjs_exec.v0+json": {
       "id": "42566"
      }
     },
     "output_type": "display_data"
    }
   ],
   "source": [
    "vendor_name = top_five['Vendor Name']\n",
    "risky_products = top_five['#Vulnerabilities/#Products']\n",
    "#simply a mapping between column names and lists of data\n",
    "source = ColumnDataSource(data=dict(company=vendor_name, counts=risky_products, color=viridis(5)))\n",
    "\n",
    "fig = figure(x_range=vendor_name, plot_height=350, title=\"Vulnerabilites per product\",\n",
    "           toolbar_location=None, tools=\"\")\n",
    "\n",
    "#create bar graph\n",
    "fig.vbar(x='company', top='counts', width=0.9, color='color', legend_field=\"company\", source=source)\n",
    "\n",
    "fig.xgrid.grid_line_color = None\n",
    "fig.legend.orientation = \"horizontal\"\n",
    "fig.legend.location = \"top_center\"\n",
    "\n",
    "show(fig)"
   ]
  },
  {
   "cell_type": "markdown",
   "metadata": {},
   "source": [
    "<p>In linguistics, a polarity item is a lexical item that can appear only in environments associated with a \n",
    "                 particular grammatical polarity affirmative or negative. A polarity item that appears in \n",
    "                 affirmative contexts is called a positive polarity item, and one that appears in negative \n",
    "                 contexts is a negative polarity item.</p>\n",
    "<p>The polarity score is a float within the range [-1.0, 1.0]</p>"
   ]
  },
  {
   "cell_type": "code",
   "execution_count": 307,
   "metadata": {},
   "outputs": [],
   "source": [
    "def sentiment_on_story(article):\n",
    "    #collect the ranges of sentiment for each sentence within an article\n",
    "    sentiment_scores = [round(sentence.sentiment.polarity, 4) for sentence in article.sentences]\n",
    "    sentiment_category = {\"negative\": [], \"netural\": [], \"positive\": []}\n",
    "    #places each score with its appropriate label\n",
    "    for i in sentiment_scores:\n",
    "        if i > 0:\n",
    "            sentiment_category[\"positive\"] += [1]\n",
    "        elif i < 0:\n",
    "            sentiment_category[\"negative\"] += [1]\n",
    "        else:\n",
    "            sentiment_category[\"netural\"] += [1]\n",
    "    #get total for each category\n",
    "    for j, k in sentiment_category.items():\n",
    "        sentiment_category[j] = sum(k)\n",
    "    return sentiment_category#return dictionary"
   ]
  },
  {
   "cell_type": "code",
   "execution_count": 308,
   "metadata": {},
   "outputs": [
    {
     "data": {
      "text/html": [
       "\n",
       "\n",
       "\n",
       "\n",
       "\n",
       "\n",
       "  <div class=\"bk-root\" id=\"0bca0e8e-3c8d-454d-9a3a-9e6498de4d71\" data-root-id=\"43327\"></div>\n"
      ]
     },
     "metadata": {},
     "output_type": "display_data"
    },
    {
     "data": {
      "application/javascript": [
       "(function(root) {\n",
       "  function embed_document(root) {\n",
       "    \n",
       "  var docs_json = {\"83b604d4-cf50-47c2-98b8-3f152acb34fb\":{\"roots\":{\"references\":[{\"attributes\":{\"below\":[{\"id\":\"43338\",\"type\":\"LinearAxis\"}],\"center\":[{\"id\":\"43342\",\"type\":\"Grid\"},{\"id\":\"43347\",\"type\":\"Grid\"},{\"id\":\"43364\",\"type\":\"Legend\"}],\"left\":[{\"id\":\"43343\",\"type\":\"LinearAxis\"}],\"plot_height\":350,\"renderers\":[{\"id\":\"43357\",\"type\":\"GlyphRenderer\"}],\"title\":{\"id\":\"43328\",\"type\":\"Title\"},\"toolbar\":{\"id\":\"43349\",\"type\":\"Toolbar\"},\"toolbar_location\":null,\"x_range\":{\"id\":\"43330\",\"type\":\"Range1d\"},\"x_scale\":{\"id\":\"43334\",\"type\":\"LinearScale\"},\"y_range\":{\"id\":\"43332\",\"type\":\"DataRange1d\"},\"y_scale\":{\"id\":\"43336\",\"type\":\"LinearScale\"}},\"id\":\"43327\",\"subtype\":\"Figure\",\"type\":\"Plot\"},{\"attributes\":{},\"id\":\"43334\",\"type\":\"LinearScale\"},{\"attributes\":{},\"id\":\"44058\",\"type\":\"UnionRenderers\"},{\"attributes\":{\"callback\":null,\"start\":-0.5},\"id\":\"43330\",\"type\":\"Range1d\"},{\"attributes\":{\"callback\":null},\"id\":\"43332\",\"type\":\"DataRange1d\"},{\"attributes\":{},\"id\":\"43336\",\"type\":\"LinearScale\"},{\"attributes\":{\"axis_label\":null,\"formatter\":{\"id\":\"43361\",\"type\":\"BasicTickFormatter\"},\"ticker\":{\"id\":\"43339\",\"type\":\"BasicTicker\"},\"visible\":false},\"id\":\"43338\",\"type\":\"LinearAxis\"},{\"attributes\":{},\"id\":\"43344\",\"type\":\"BasicTicker\"},{\"attributes\":{},\"id\":\"43339\",\"type\":\"BasicTicker\"},{\"attributes\":{},\"id\":\"43361\",\"type\":\"BasicTickFormatter\"},{\"attributes\":{\"grid_line_color\":null,\"ticker\":{\"id\":\"43339\",\"type\":\"BasicTicker\"}},\"id\":\"43342\",\"type\":\"Grid\"},{\"attributes\":{\"active_drag\":\"auto\",\"active_inspect\":\"auto\",\"active_multi\":null,\"active_scroll\":\"auto\",\"active_tap\":\"auto\",\"tools\":[{\"id\":\"43348\",\"type\":\"HoverTool\"}]},\"id\":\"43349\",\"type\":\"Toolbar\"},{\"attributes\":{\"dimension\":1,\"grid_line_color\":null,\"ticker\":{\"id\":\"43344\",\"type\":\"BasicTicker\"}},\"id\":\"43347\",\"type\":\"Grid\"},{\"attributes\":{\"axis_label\":null,\"formatter\":{\"id\":\"43363\",\"type\":\"BasicTickFormatter\"},\"ticker\":{\"id\":\"43344\",\"type\":\"BasicTicker\"},\"visible\":false},\"id\":\"43343\",\"type\":\"LinearAxis\"},{\"attributes\":{\"text\":\"Wired Magazine's coverage analyzed by sentiment\"},\"id\":\"43328\",\"type\":\"Title\"},{\"attributes\":{\"end_angle\":{\"expr\":{\"id\":\"43352\",\"type\":\"CumSum\"},\"units\":\"rad\"},\"fill_alpha\":{\"value\":0.1},\"fill_color\":{\"value\":\"#1f77b4\"},\"line_alpha\":{\"value\":0.1},\"line_color\":{\"value\":\"#1f77b4\"},\"radius\":{\"units\":\"data\",\"value\":0.4},\"start_angle\":{\"expr\":{\"id\":\"43351\",\"type\":\"CumSum\"},\"units\":\"rad\"},\"x\":{\"value\":0},\"y\":{\"value\":1}},\"id\":\"43356\",\"type\":\"Wedge\"},{\"attributes\":{\"callback\":null,\"tooltips\":\"@sentiment: @count\"},\"id\":\"43348\",\"type\":\"HoverTool\"},{\"attributes\":{\"end_angle\":{\"expr\":{\"id\":\"43352\",\"type\":\"CumSum\"},\"units\":\"rad\"},\"fill_color\":{\"field\":\"color\"},\"radius\":{\"units\":\"data\",\"value\":0.4},\"start_angle\":{\"expr\":{\"id\":\"43351\",\"type\":\"CumSum\"},\"units\":\"rad\"},\"x\":{\"value\":0},\"y\":{\"value\":1}},\"id\":\"43355\",\"type\":\"Wedge\"},{\"attributes\":{\"callback\":null,\"data\":{\"angle\":{\"__ndarray__\":\"z4fSysL4+j8ki4+hymMCQCSLj6HKYwJA\",\"dtype\":\"float64\",\"shape\":[3]},\"color\":[\"#de2d26\",\"#fc9272\",\"#fee0d2\"],\"count\":[11,15,15],\"index\":[0,1,2],\"sentiment\":[\"negative\",\"netural\",\"positive\"]},\"selected\":{\"id\":\"44057\",\"type\":\"Selection\"},\"selection_policy\":{\"id\":\"44058\",\"type\":\"UnionRenderers\"}},\"id\":\"43353\",\"type\":\"ColumnDataSource\"},{\"attributes\":{\"field\":\"angle\"},\"id\":\"43352\",\"type\":\"CumSum\"},{\"attributes\":{},\"id\":\"44057\",\"type\":\"Selection\"},{\"attributes\":{\"data_source\":{\"id\":\"43353\",\"type\":\"ColumnDataSource\"},\"glyph\":{\"id\":\"43355\",\"type\":\"Wedge\"},\"hover_glyph\":null,\"muted_glyph\":null,\"nonselection_glyph\":{\"id\":\"43356\",\"type\":\"Wedge\"},\"selection_glyph\":null,\"view\":{\"id\":\"43358\",\"type\":\"CDSView\"}},\"id\":\"43357\",\"type\":\"GlyphRenderer\"},{\"attributes\":{\"field\":\"angle\",\"include_zero\":true},\"id\":\"43351\",\"type\":\"CumSum\"},{\"attributes\":{\"source\":{\"id\":\"43353\",\"type\":\"ColumnDataSource\"}},\"id\":\"43358\",\"type\":\"CDSView\"},{\"attributes\":{},\"id\":\"43363\",\"type\":\"BasicTickFormatter\"},{\"attributes\":{\"items\":[{\"id\":\"43365\",\"type\":\"LegendItem\"}]},\"id\":\"43364\",\"type\":\"Legend\"},{\"attributes\":{\"label\":{\"field\":\"sentiment\"},\"renderers\":[{\"id\":\"43357\",\"type\":\"GlyphRenderer\"}]},\"id\":\"43365\",\"type\":\"LegendItem\"}],\"root_ids\":[\"43327\"]},\"title\":\"Bokeh Application\",\"version\":\"1.4.0\"}};\n",
       "  var render_items = [{\"docid\":\"83b604d4-cf50-47c2-98b8-3f152acb34fb\",\"roots\":{\"43327\":\"0bca0e8e-3c8d-454d-9a3a-9e6498de4d71\"}}];\n",
       "  root.Bokeh.embed.embed_items_notebook(docs_json, render_items);\n",
       "\n",
       "  }\n",
       "  if (root.Bokeh !== undefined) {\n",
       "    embed_document(root);\n",
       "  } else {\n",
       "    var attempts = 0;\n",
       "    var timer = setInterval(function(root) {\n",
       "      if (root.Bokeh !== undefined) {\n",
       "        clearInterval(timer);\n",
       "        embed_document(root);\n",
       "      } else {\n",
       "        attempts++;\n",
       "        if (attempts > 100) {\n",
       "          clearInterval(timer);\n",
       "          console.log(\"Bokeh: ERROR: Unable to run BokehJS code because BokehJS library is missing\");\n",
       "        }\n",
       "      }\n",
       "    }, 10, root)\n",
       "  }\n",
       "})(window);"
      ],
      "application/vnd.bokehjs_exec.v0+json": ""
     },
     "metadata": {
      "application/vnd.bokehjs_exec.v0+json": {
       "id": "43327"
      }
     },
     "output_type": "display_data"
    }
   ],
   "source": [
    "from bokeh.palettes import brewer\n",
    "x = sentiment_on_story(wired)\n",
    "#converts to Series with number of sentences per emotion and sentiment as columns\n",
    "data = pd.Series(x).reset_index(name='count').rename(columns={'index':'sentiment'})\n",
    "#creates percentage share of the pie\n",
    "data['angle'] = data['count']/data['count'].sum() * 2*pi\n",
    "#selects different color for each label\n",
    "data['color'] = brewer['Reds'][len(x)]\n",
    "\n",
    "fig = figure(plot_height=350, title=\"Wired Magazine's coverage analyzed by sentiment\", toolbar_location=None,\n",
    "           tools=\"hover\", tooltips=\"@sentiment: @count\", x_range=(-0.5, 1.0)\n",
    "           )#hover tool so name and number appear when mouse hovers over the pie chart\n",
    "\n",
    "#creates the pie chart size and color scheme\n",
    "fig.wedge(x=0, y=1, radius=0.4,\n",
    "        start_angle=cumsum('angle', include_zero=True), end_angle=cumsum('angle'),\n",
    "        line_color=\"black\", fill_color='color', legend_field='sentiment', source=data)\n",
    "\n",
    "fig.axis.axis_label=None\n",
    "fig.axis.visible=False\n",
    "fig.grid.grid_line_color = None\n",
    "\n",
    "# Show plot\n",
    "show(fig)"
   ]
  },
  {
   "cell_type": "markdown",
   "metadata": {},
   "source": [
    "# Advice from experts on protecting access to sensitive information "
   ]
  },
  {
   "cell_type": "markdown",
   "metadata": {},
   "source": [
    "<img src=\"https://media.giphy.com/media/MGaacoiAlAti0/giphy.gif\" alt=\"Drawing\" style=\"width: 500px;\"/>"
   ]
  },
  {
   "cell_type": "markdown",
   "metadata": {},
   "source": [
    "* Apply all available security updates for VPN and firewall configurations.\n",
    "* Monitor and pay special attention to your remote access infrastructure. \n",
    "* Turn on attack surface reduction rules, including rules that block credential theft and ransomware activity. \n",
    "* Turn on AMSI for Office VBA if you have Office 365.\n",
    "* Harden internet-facing assets and ensure that they have the latest security updates.\n",
    "* Secure your Remote Desktop Gateway using solutions like Azure Multi-Factor Authentication (MFA). If you don't have an MFA gateway, enable network-level authentication (NLA).\n",
    "* Practice the principle of least-privilege and maintain credential hygiene.\n",
    "* Monitor for brute-force attempts.\n",
    "* Monitor for the clearing of Event Logs, especially the Security Event log and PowerShell Operational logs.\n",
    "* Determine where highly privileged accounts are logging on and exposing credentials.\n",
    "* Use the Windows Defender Firewall and your network firewall to prevent Remote Procedure Call (RPC) and Server Message Block (SMB) communication among endpoints whenever possible. This limits lateral movement as well as other attack activities."
   ]
  },
  {
   "cell_type": "markdown",
   "metadata": {},
   "source": [
    "# Citations & References:\n",
    "* [U.S. Department of Health and Human Services\n",
    "Office for Civil Rights](https://ocrportal.hhs.gov/ocr/breach/breach_report.jsf)\n",
    "* [What is the HITECH ACT?](https://compliancy-group.com/what-is-the-hitech-act/)\n",
    "* [\n",
    "Microsoft to hospitals: 11 tips on how to combat ransomware\n",
    "](https://www.techrepublic.com/article/microsoft-to-hospitals-11-tips-on-how-to-combat-ransomware/)\n",
    "* [What is HIPAA Compliance?](https://compliancy-group.com/hipaa/)\n",
    "* [Top 50 Vendors By Total Number Of \"Distinct\" Vulnerabilities](https://www.cvedetails.com/top-50-vendors.php)\n",
    "* [Top 50 Versions Of Products Having Highest Number Of Security Vulnerabilities Related To Them](https://www.cvedetails.com/top-50-versions.php)\n",
    "* [SQLite3 Datatypes](https://www.sqlite.org/datatype3.html)\n",
    "* [SQLite3 Python documentation](https://docs.python.org/3/library/sqlite3.html)\n",
    "* [\n",
    "Data Cleaning by Alice Zhao](https://github.com/adashofdata/nlp-in-python-tutorial/blob/master/1-Data-Cleaning.ipynb)\n",
    "* [textblob](https://textblob.readthedocs.io/en/dev/)\n",
    "* [Bokeh pie chart](https://docs.bokeh.org/en/1.4.0/docs/gallery/pie_chart.html)\n",
    "* [Bokeh bar graph](https://docs.bokeh.org/en/1.4.0/docs/gallery/bar_colors.html)"
   ]
  }
 ],
 "metadata": {
  "kernelspec": {
   "display_name": "Python 3",
   "language": "python",
   "name": "python3"
  },
  "language_info": {
   "codemirror_mode": {
    "name": "ipython",
    "version": 3
   },
   "file_extension": ".py",
   "mimetype": "text/x-python",
   "name": "python",
   "nbconvert_exporter": "python",
   "pygments_lexer": "ipython3",
   "version": "3.7.3"
  }
 },
 "nbformat": 4,
 "nbformat_minor": 2
}
